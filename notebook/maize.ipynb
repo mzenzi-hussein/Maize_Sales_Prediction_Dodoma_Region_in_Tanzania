{
 "cells": [
  {
   "cell_type": "code",
   "execution_count": 1,
   "id": "78054e27",
   "metadata": {},
   "outputs": [],
   "source": [
    "import joblib\n",
    "import sklearn\n",
    "import numpy as np\n",
    "import pandas as pd\n",
    "import seaborn as sns\n",
    "from sklearn import preprocessing"
   ]
  },
  {
   "cell_type": "code",
   "execution_count": 2,
   "id": "0c56aa62",
   "metadata": {},
   "outputs": [],
   "source": [
    "data = pd.read_csv('maize.csv')"
   ]
  },
  {
   "cell_type": "code",
   "execution_count": 3,
   "id": "72684f37",
   "metadata": {},
   "outputs": [
    {
     "data": {
      "text/html": [
       "<div>\n",
       "<style scoped>\n",
       "    .dataframe tbody tr th:only-of-type {\n",
       "        vertical-align: middle;\n",
       "    }\n",
       "\n",
       "    .dataframe tbody tr th {\n",
       "        vertical-align: top;\n",
       "    }\n",
       "\n",
       "    .dataframe thead th {\n",
       "        text-align: right;\n",
       "    }\n",
       "</style>\n",
       "<table border=\"1\" class=\"dataframe\">\n",
       "  <thead>\n",
       "    <tr style=\"text-align: right;\">\n",
       "      <th></th>\n",
       "      <th>SALES</th>\n",
       "      <th>TEMPERATURE(°C)</th>\n",
       "      <th>RAINFALL (mm)</th>\n",
       "      <th>OPERATING COSTS(1 hacter)</th>\n",
       "      <th>CROP NAME</th>\n",
       "      <th>MONTH</th>\n",
       "      <th>YEAR</th>\n",
       "      <th>REGION</th>\n",
       "      <th>Unnamed: 8</th>\n",
       "      <th>Unnamed: 9</th>\n",
       "      <th>Unnamed: 10</th>\n",
       "    </tr>\n",
       "  </thead>\n",
       "  <tbody>\n",
       "    <tr>\n",
       "      <th>0</th>\n",
       "      <td>medium sales</td>\n",
       "      <td>24.2</td>\n",
       "      <td>93.0</td>\n",
       "      <td>374200</td>\n",
       "      <td>MAIZE</td>\n",
       "      <td>january</td>\n",
       "      <td>1995</td>\n",
       "      <td>DODOMA</td>\n",
       "      <td>NaN</td>\n",
       "      <td>NaN</td>\n",
       "      <td>NaN</td>\n",
       "    </tr>\n",
       "    <tr>\n",
       "      <th>1</th>\n",
       "      <td>medium sales</td>\n",
       "      <td>23.9</td>\n",
       "      <td>69.0</td>\n",
       "      <td>374200</td>\n",
       "      <td>MAIZE</td>\n",
       "      <td>february</td>\n",
       "      <td>1995</td>\n",
       "      <td>DODOMA</td>\n",
       "      <td>NaN</td>\n",
       "      <td>NaN</td>\n",
       "      <td>NaN</td>\n",
       "    </tr>\n",
       "    <tr>\n",
       "      <th>2</th>\n",
       "      <td>medium sales</td>\n",
       "      <td>23.2</td>\n",
       "      <td>50.4</td>\n",
       "      <td>374200</td>\n",
       "      <td>MAIZE</td>\n",
       "      <td>march</td>\n",
       "      <td>1995</td>\n",
       "      <td>DODOMA</td>\n",
       "      <td>NaN</td>\n",
       "      <td>NaN</td>\n",
       "      <td>NaN</td>\n",
       "    </tr>\n",
       "    <tr>\n",
       "      <th>3</th>\n",
       "      <td>medium sales</td>\n",
       "      <td>22.7</td>\n",
       "      <td>7.7</td>\n",
       "      <td>374200</td>\n",
       "      <td>MAIZE</td>\n",
       "      <td>april</td>\n",
       "      <td>1995</td>\n",
       "      <td>DODOMA</td>\n",
       "      <td>NaN</td>\n",
       "      <td>NaN</td>\n",
       "      <td>NaN</td>\n",
       "    </tr>\n",
       "    <tr>\n",
       "      <th>4</th>\n",
       "      <td>high sales</td>\n",
       "      <td>22.3</td>\n",
       "      <td>17.8</td>\n",
       "      <td>374200</td>\n",
       "      <td>MAIZE</td>\n",
       "      <td>may</td>\n",
       "      <td>1995</td>\n",
       "      <td>DODOMA</td>\n",
       "      <td>NaN</td>\n",
       "      <td>NaN</td>\n",
       "      <td>NaN</td>\n",
       "    </tr>\n",
       "  </tbody>\n",
       "</table>\n",
       "</div>"
      ],
      "text/plain": [
       "          SALES  TEMPERATURE(°C)  RAINFALL (mm)  OPERATING COSTS(1 hacter)  \\\n",
       "0  medium sales             24.2           93.0                     374200   \n",
       "1  medium sales             23.9           69.0                     374200   \n",
       "2  medium sales             23.2           50.4                     374200   \n",
       "3  medium sales             22.7            7.7                     374200   \n",
       "4    high sales             22.3           17.8                     374200   \n",
       "\n",
       "  CROP NAME     MONTH  YEAR  REGION  Unnamed: 8  Unnamed: 9 Unnamed: 10  \n",
       "0     MAIZE   january  1995  DODOMA         NaN         NaN         NaN  \n",
       "1     MAIZE  february  1995  DODOMA         NaN         NaN         NaN  \n",
       "2     MAIZE     march  1995  DODOMA         NaN         NaN         NaN  \n",
       "3     MAIZE     april  1995  DODOMA         NaN         NaN         NaN  \n",
       "4     MAIZE       may  1995  DODOMA         NaN         NaN         NaN  "
      ]
     },
     "execution_count": 3,
     "metadata": {},
     "output_type": "execute_result"
    }
   ],
   "source": [
    "data.head()"
   ]
  },
  {
   "cell_type": "code",
   "execution_count": 4,
   "id": "239b3c3e",
   "metadata": {},
   "outputs": [
    {
     "data": {
      "text/plain": [
       "Index(['SALES', 'TEMPERATURE(°C)', 'RAINFALL (mm)',\n",
       "       'OPERATING COSTS(1 hacter)', 'CROP NAME', 'MONTH', 'YEAR', 'REGION',\n",
       "       'Unnamed: 8', 'Unnamed: 9', 'Unnamed: 10'],\n",
       "      dtype='object')"
      ]
     },
     "execution_count": 4,
     "metadata": {},
     "output_type": "execute_result"
    }
   ],
   "source": [
    "data.columns"
   ]
  },
  {
   "cell_type": "code",
   "execution_count": 5,
   "id": "527d6931",
   "metadata": {},
   "outputs": [
    {
     "name": "stdout",
     "output_type": "stream",
     "text": [
      "<class 'pandas.core.frame.DataFrame'>\n",
      "RangeIndex: 348 entries, 0 to 347\n",
      "Data columns (total 11 columns):\n",
      " #   Column                     Non-Null Count  Dtype  \n",
      "---  ------                     --------------  -----  \n",
      " 0   SALES                      348 non-null    object \n",
      " 1   TEMPERATURE(°C)            348 non-null    float64\n",
      " 2   RAINFALL (mm)              348 non-null    float64\n",
      " 3   OPERATING COSTS(1 hacter)  348 non-null    int64  \n",
      " 4   CROP NAME                  348 non-null    object \n",
      " 5   MONTH                      348 non-null    object \n",
      " 6   YEAR                       348 non-null    int64  \n",
      " 7   REGION                     348 non-null    object \n",
      " 8   Unnamed: 8                 0 non-null      float64\n",
      " 9   Unnamed: 9                 0 non-null      float64\n",
      " 10  Unnamed: 10                3 non-null      object \n",
      "dtypes: float64(4), int64(2), object(5)\n",
      "memory usage: 30.0+ KB\n"
     ]
    }
   ],
   "source": [
    "data.info()"
   ]
  },
  {
   "cell_type": "code",
   "execution_count": 6,
   "id": "044cea40",
   "metadata": {},
   "outputs": [],
   "source": [
    "# drop 8,9 and 10 since they are null values\n",
    "# drop region and crop name since they have no effect on the crop sales. (same for all observations)\n",
    "cleaned_data = data.drop(columns = ['REGION','CROP NAME','Unnamed: 8', 'Unnamed: 9', 'Unnamed: 10'], axis = 1)"
   ]
  },
  {
   "cell_type": "markdown",
   "id": "082fd98c",
   "metadata": {},
   "source": [
    "convert sales into numerical labels, where low = 0, medium = 1, high = 2"
   ]
  },
  {
   "cell_type": "code",
   "execution_count": 7,
   "id": "dd8caf3e",
   "metadata": {},
   "outputs": [
    {
     "name": "stdout",
     "output_type": "stream",
     "text": [
      "Sales:  ['medium sales' 'high sales' 'low sales']\n",
      "\n",
      "\n",
      "Months:  ['january' 'february' 'march' 'april' 'may' 'june' 'july' 'august'\n",
      " 'september' 'october' 'november' 'december']\n"
     ]
    }
   ],
   "source": [
    "print(\"Sales: \",cleaned_data['SALES'].unique())\n",
    "print(\"\\n\")\n",
    "print(\"Months: \", cleaned_data['MONTH'].unique())"
   ]
  },
  {
   "cell_type": "code",
   "execution_count": 8,
   "id": "4cf76c43",
   "metadata": {},
   "outputs": [],
   "source": [
    "def encode_labels(data_column):\n",
    "    \"\"\" encode labels \"\"\"\n",
    "    def label_dict(uniques):\n",
    "        \"\"\" returns key-value pair of the values. \"\"\"\n",
    "        uniques = list(uniques)\n",
    "        unique_dict = dict()\n",
    "        for uni in range(0, len(uniques)):\n",
    "            unique_dict[str(uniques[uni])] = uni\n",
    "        return unique_dict\n",
    "    \n",
    "    label_encoder = preprocessing.LabelEncoder()\n",
    "    encoded_column = label_encoder.fit_transform(data_column)\n",
    "    column_dict = label_dict(data_column.unique())\n",
    "    return column_dict, encoded_column"
   ]
  },
  {
   "cell_type": "code",
   "execution_count": 9,
   "id": "cc4356e2",
   "metadata": {},
   "outputs": [],
   "source": [
    "sales_dict1, sales_column = encode_labels(cleaned_data['SALES'])\n",
    "month_dict, month_column = encode_labels(cleaned_data['MONTH'])\n",
    "sales_dict = dict((y,x) for x,y in sales_dict1.items())"
   ]
  },
  {
   "cell_type": "code",
   "execution_count": 10,
   "id": "3988785a",
   "metadata": {},
   "outputs": [],
   "source": [
    "cleaned_data['SALES'] = sales_column\n",
    "cleaned_data['MONTH'] = month_column"
   ]
  },
  {
   "cell_type": "code",
   "execution_count": 11,
   "id": "360cc145",
   "metadata": {},
   "outputs": [
    {
     "data": {
      "text/html": [
       "<div>\n",
       "<style scoped>\n",
       "    .dataframe tbody tr th:only-of-type {\n",
       "        vertical-align: middle;\n",
       "    }\n",
       "\n",
       "    .dataframe tbody tr th {\n",
       "        vertical-align: top;\n",
       "    }\n",
       "\n",
       "    .dataframe thead th {\n",
       "        text-align: right;\n",
       "    }\n",
       "</style>\n",
       "<table border=\"1\" class=\"dataframe\">\n",
       "  <thead>\n",
       "    <tr style=\"text-align: right;\">\n",
       "      <th></th>\n",
       "      <th>SALES</th>\n",
       "      <th>TEMPERATURE(°C)</th>\n",
       "      <th>RAINFALL (mm)</th>\n",
       "      <th>OPERATING COSTS(1 hacter)</th>\n",
       "      <th>MONTH</th>\n",
       "      <th>YEAR</th>\n",
       "    </tr>\n",
       "  </thead>\n",
       "  <tbody>\n",
       "    <tr>\n",
       "      <th>0</th>\n",
       "      <td>2</td>\n",
       "      <td>24.2</td>\n",
       "      <td>93.0</td>\n",
       "      <td>374200</td>\n",
       "      <td>4</td>\n",
       "      <td>1995</td>\n",
       "    </tr>\n",
       "    <tr>\n",
       "      <th>1</th>\n",
       "      <td>2</td>\n",
       "      <td>23.9</td>\n",
       "      <td>69.0</td>\n",
       "      <td>374200</td>\n",
       "      <td>3</td>\n",
       "      <td>1995</td>\n",
       "    </tr>\n",
       "    <tr>\n",
       "      <th>2</th>\n",
       "      <td>2</td>\n",
       "      <td>23.2</td>\n",
       "      <td>50.4</td>\n",
       "      <td>374200</td>\n",
       "      <td>7</td>\n",
       "      <td>1995</td>\n",
       "    </tr>\n",
       "    <tr>\n",
       "      <th>3</th>\n",
       "      <td>2</td>\n",
       "      <td>22.7</td>\n",
       "      <td>7.7</td>\n",
       "      <td>374200</td>\n",
       "      <td>0</td>\n",
       "      <td>1995</td>\n",
       "    </tr>\n",
       "    <tr>\n",
       "      <th>4</th>\n",
       "      <td>0</td>\n",
       "      <td>22.3</td>\n",
       "      <td>17.8</td>\n",
       "      <td>374200</td>\n",
       "      <td>8</td>\n",
       "      <td>1995</td>\n",
       "    </tr>\n",
       "  </tbody>\n",
       "</table>\n",
       "</div>"
      ],
      "text/plain": [
       "   SALES  TEMPERATURE(°C)  RAINFALL (mm)  OPERATING COSTS(1 hacter)  MONTH  \\\n",
       "0      2             24.2           93.0                     374200      4   \n",
       "1      2             23.9           69.0                     374200      3   \n",
       "2      2             23.2           50.4                     374200      7   \n",
       "3      2             22.7            7.7                     374200      0   \n",
       "4      0             22.3           17.8                     374200      8   \n",
       "\n",
       "   YEAR  \n",
       "0  1995  \n",
       "1  1995  \n",
       "2  1995  \n",
       "3  1995  \n",
       "4  1995  "
      ]
     },
     "execution_count": 11,
     "metadata": {},
     "output_type": "execute_result"
    }
   ],
   "source": [
    "cleaned_data.head()"
   ]
  },
  {
   "cell_type": "code",
   "execution_count": 12,
   "id": "85fd4439",
   "metadata": {},
   "outputs": [
    {
     "data": {
      "text/html": [
       "<div>\n",
       "<style scoped>\n",
       "    .dataframe tbody tr th:only-of-type {\n",
       "        vertical-align: middle;\n",
       "    }\n",
       "\n",
       "    .dataframe tbody tr th {\n",
       "        vertical-align: top;\n",
       "    }\n",
       "\n",
       "    .dataframe thead th {\n",
       "        text-align: right;\n",
       "    }\n",
       "</style>\n",
       "<table border=\"1\" class=\"dataframe\">\n",
       "  <thead>\n",
       "    <tr style=\"text-align: right;\">\n",
       "      <th></th>\n",
       "      <th>SALES</th>\n",
       "      <th>TEMPERATURE(°C)</th>\n",
       "      <th>RAINFALL (mm)</th>\n",
       "      <th>OPERATING COSTS(1 hacter)</th>\n",
       "      <th>MONTH</th>\n",
       "      <th>YEAR</th>\n",
       "    </tr>\n",
       "  </thead>\n",
       "  <tbody>\n",
       "    <tr>\n",
       "      <th>SALES</th>\n",
       "      <td>1.000000e+00</td>\n",
       "      <td>0.351061</td>\n",
       "      <td>0.323369</td>\n",
       "      <td>3.896450e-16</td>\n",
       "      <td>-2.765850e-01</td>\n",
       "      <td>-5.326353e-16</td>\n",
       "    </tr>\n",
       "    <tr>\n",
       "      <th>TEMPERATURE(°C)</th>\n",
       "      <td>3.510610e-01</td>\n",
       "      <td>1.000000</td>\n",
       "      <td>0.488143</td>\n",
       "      <td>-4.890224e-02</td>\n",
       "      <td>6.425299e-02</td>\n",
       "      <td>-3.721921e-02</td>\n",
       "    </tr>\n",
       "    <tr>\n",
       "      <th>RAINFALL (mm)</th>\n",
       "      <td>3.233692e-01</td>\n",
       "      <td>0.488143</td>\n",
       "      <td>1.000000</td>\n",
       "      <td>-9.674792e-02</td>\n",
       "      <td>-3.008295e-01</td>\n",
       "      <td>-8.725688e-02</td>\n",
       "    </tr>\n",
       "    <tr>\n",
       "      <th>OPERATING COSTS(1 hacter)</th>\n",
       "      <td>3.896450e-16</td>\n",
       "      <td>-0.048902</td>\n",
       "      <td>-0.096748</td>\n",
       "      <td>1.000000e+00</td>\n",
       "      <td>-6.308172e-16</td>\n",
       "      <td>9.092926e-01</td>\n",
       "    </tr>\n",
       "    <tr>\n",
       "      <th>MONTH</th>\n",
       "      <td>-2.765850e-01</td>\n",
       "      <td>0.064253</td>\n",
       "      <td>-0.300830</td>\n",
       "      <td>-6.308172e-16</td>\n",
       "      <td>1.000000e+00</td>\n",
       "      <td>-1.489364e-16</td>\n",
       "    </tr>\n",
       "    <tr>\n",
       "      <th>YEAR</th>\n",
       "      <td>-5.326353e-16</td>\n",
       "      <td>-0.037219</td>\n",
       "      <td>-0.087257</td>\n",
       "      <td>9.092926e-01</td>\n",
       "      <td>-1.489364e-16</td>\n",
       "      <td>1.000000e+00</td>\n",
       "    </tr>\n",
       "  </tbody>\n",
       "</table>\n",
       "</div>"
      ],
      "text/plain": [
       "                                  SALES  TEMPERATURE(°C)  RAINFALL (mm)  \\\n",
       "SALES                      1.000000e+00         0.351061       0.323369   \n",
       "TEMPERATURE(°C)            3.510610e-01         1.000000       0.488143   \n",
       "RAINFALL (mm)              3.233692e-01         0.488143       1.000000   \n",
       "OPERATING COSTS(1 hacter)  3.896450e-16        -0.048902      -0.096748   \n",
       "MONTH                     -2.765850e-01         0.064253      -0.300830   \n",
       "YEAR                      -5.326353e-16        -0.037219      -0.087257   \n",
       "\n",
       "                           OPERATING COSTS(1 hacter)         MONTH  \\\n",
       "SALES                                   3.896450e-16 -2.765850e-01   \n",
       "TEMPERATURE(°C)                        -4.890224e-02  6.425299e-02   \n",
       "RAINFALL (mm)                          -9.674792e-02 -3.008295e-01   \n",
       "OPERATING COSTS(1 hacter)               1.000000e+00 -6.308172e-16   \n",
       "MONTH                                  -6.308172e-16  1.000000e+00   \n",
       "YEAR                                    9.092926e-01 -1.489364e-16   \n",
       "\n",
       "                                   YEAR  \n",
       "SALES                     -5.326353e-16  \n",
       "TEMPERATURE(°C)           -3.721921e-02  \n",
       "RAINFALL (mm)             -8.725688e-02  \n",
       "OPERATING COSTS(1 hacter)  9.092926e-01  \n",
       "MONTH                     -1.489364e-16  \n",
       "YEAR                       1.000000e+00  "
      ]
     },
     "execution_count": 12,
     "metadata": {},
     "output_type": "execute_result"
    }
   ],
   "source": [
    "cleaned_data.corr()"
   ]
  },
  {
   "cell_type": "markdown",
   "id": "9aee2f41",
   "metadata": {},
   "source": [
    "# Remove Multicollinearity \n",
    "to prevent multi corlieanirty we will use one of TEMPERATURE or Rainfall, since they are strongly corellated"
   ]
  },
  {
   "cell_type": "code",
   "execution_count": 13,
   "id": "7738db09",
   "metadata": {},
   "outputs": [],
   "source": [
    "# we shall remove RAINFALL (mm) since it has a smalller corellation to sales\n",
    "cleaned_data = cleaned_data.drop(columns=['RAINFALL (mm)'])"
   ]
  },
  {
   "cell_type": "code",
   "execution_count": 14,
   "id": "5d536a14",
   "metadata": {},
   "outputs": [
    {
     "data": {
      "text/plain": [
       "Index(['SALES', 'TEMPERATURE(°C)', 'OPERATING COSTS(1 hacter)', 'MONTH',\n",
       "       'YEAR'],\n",
       "      dtype='object')"
      ]
     },
     "execution_count": 14,
     "metadata": {},
     "output_type": "execute_result"
    }
   ],
   "source": [
    "cleaned_data.columns"
   ]
  },
  {
   "cell_type": "code",
   "execution_count": 15,
   "id": "f669c2e8",
   "metadata": {},
   "outputs": [],
   "source": [
    "features = cleaned_data.copy()\n",
    "target  = features.pop('SALES')"
   ]
  },
  {
   "cell_type": "markdown",
   "id": "6fe49d34",
   "metadata": {},
   "source": [
    "# Feature Importance\n",
    "\n",
    "refers to the techniques that assign a score to input\n",
    "features based on how useful they are in predicting a target variable. You can use the corellation scoresto select the important features"
   ]
  },
  {
   "cell_type": "code",
   "execution_count": 16,
   "id": "1445994c",
   "metadata": {},
   "outputs": [
    {
     "data": {
      "text/plain": [
       "MONTH                        1.066106\n",
       "TEMPERATURE(°C)              0.608082\n",
       "OPERATING COSTS(1 hacter)    0.000000\n",
       "YEAR                         0.000000\n",
       "Name: MI Scores, dtype: float64"
      ]
     },
     "execution_count": 16,
     "metadata": {},
     "output_type": "execute_result"
    }
   ],
   "source": [
    "from sklearn.feature_selection import mutual_info_regression\n",
    "\n",
    "def make_mi_scores(X, y):\n",
    "    mi_scores = mutual_info_regression(X, y)\n",
    "    mi_scores = pd.Series(mi_scores, name=\"MI Scores\", index=X.columns)\n",
    "    mi_scores = mi_scores.sort_values(ascending=False)\n",
    "    return mi_scores\n",
    "\n",
    "mi_scores = make_mi_scores(features, cleaned_data['SALES'])\n",
    "mi_scores"
   ]
  },
  {
   "cell_type": "code",
   "execution_count": 17,
   "id": "f0906861",
   "metadata": {},
   "outputs": [
    {
     "data": {
      "text/plain": [
       "<AxesSubplot:xlabel='TEMPERATURE(°C)', ylabel='MONTH'>"
      ]
     },
     "execution_count": 17,
     "metadata": {},
     "output_type": "execute_result"
    },
    {
     "data": {
      "image/png": "[encoded data removed]",
      "text/plain": [
       "<Figure size 432x288 with 1 Axes>"
      ]
     },
     "metadata": {
      "needs_background": "light"
     },
     "output_type": "display_data"
    }
   ],
   "source": [
    "sns.scatterplot(y='MONTH', x=\"TEMPERATURE(°C)\",data=data,hue=\"SALES\")"
   ]
  },
  {
   "cell_type": "markdown",
   "id": "f130ab63",
   "metadata": {},
   "source": [
    "since the year and the operating costs have less weights towards contributing to predicting the sales, we drop them"
   ]
  },
  {
   "cell_type": "code",
   "execution_count": 18,
   "id": "87439926",
   "metadata": {},
   "outputs": [],
   "source": [
    "actual_x = features.drop(columns=['OPERATING COSTS(1 hacter)','YEAR'])\n",
    "actual_y = target"
   ]
  },
  {
   "cell_type": "code",
   "execution_count": 19,
   "id": "f2cb2216",
   "metadata": {},
   "outputs": [],
   "source": [
    "from sklearn.model_selection import train_test_split\n",
    "x_train, x_test, y_train, y_test = train_test_split(actual_x, actual_y, test_size=0.25, random_state = 20)"
   ]
  },
  {
   "cell_type": "code",
   "execution_count": 20,
   "id": "f85cc5fd",
   "metadata": {},
   "outputs": [],
   "source": [
    "from sklearn.naive_bayes import GaussianNB"
   ]
  },
  {
   "cell_type": "code",
   "execution_count": 21,
   "id": "837209ae",
   "metadata": {},
   "outputs": [],
   "source": [
    "# create model instance\n",
    "model = GaussianNB()"
   ]
  },
  {
   "cell_type": "code",
   "execution_count": 22,
   "id": "bfb23880",
   "metadata": {},
   "outputs": [
    {
     "data": {
      "text/plain": [
       "Index(['TEMPERATURE(°C)', 'MONTH'], dtype='object')"
      ]
     },
     "execution_count": 22,
     "metadata": {},
     "output_type": "execute_result"
    }
   ],
   "source": [
    "x_train.columns"
   ]
  },
  {
   "cell_type": "code",
   "execution_count": 23,
   "id": "035d91b9",
   "metadata": {},
   "outputs": [
    {
     "data": {
      "text/plain": [
       "GaussianNB()"
      ]
     },
     "execution_count": 23,
     "metadata": {},
     "output_type": "execute_result"
    }
   ],
   "source": [
    "# train the model\n",
    "model.fit(x_train, y_train)"
   ]
  },
  {
   "cell_type": "code",
   "execution_count": 24,
   "id": "aabd4928",
   "metadata": {},
   "outputs": [
    {
     "data": {
      "text/plain": [
       "['maize_model.pkl']"
      ]
     },
     "execution_count": 24,
     "metadata": {},
     "output_type": "execute_result"
    }
   ],
   "source": [
    "filename = 'maize_model.pkl'\n",
    "joblib.dump(model, filename)"
   ]
  },
  {
   "cell_type": "code",
   "execution_count": 25,
   "id": "6fed2fc5",
   "metadata": {},
   "outputs": [],
   "source": [
    "y_predicted = model.predict(x_test)"
   ]
  },
  {
   "cell_type": "code",
   "execution_count": 26,
   "id": "d8d5665f",
   "metadata": {},
   "outputs": [
    {
     "name": "stdout",
     "output_type": "stream",
     "text": [
      "The training score of model is:  0.7854406130268199\n"
     ]
    }
   ],
   "source": [
    "train_score = model.score(x_train, y_train)\n",
    "print(\"The training score of model is: \", train_score)"
   ]
  },
  {
   "cell_type": "code",
   "execution_count": 27,
   "id": "84dc8c9f",
   "metadata": {},
   "outputs": [
    {
     "name": "stdout",
     "output_type": "stream",
     "text": [
      "The score of the model on test data is: 0.7241379310344828\n"
     ]
    }
   ],
   "source": [
    "test_score = model.score(x_test, y_test)\n",
    "print(\"The score of the model on test data is:\", test_score )"
   ]
  },
  {
   "cell_type": "markdown",
   "id": "e1bc32a6",
   "metadata": {},
   "source": [
    "# PREDICTION IN JANUARY AT 25C"
   ]
  },
  {
   "cell_type": "code",
   "execution_count": 28,
   "id": "2fde4d9b",
   "metadata": {},
   "outputs": [
    {
     "name": "stderr",
     "output_type": "stream",
     "text": [
      "C:\\ProgramData\\Anaconda3\\lib\\site-packages\\sklearn\\base.py:450: UserWarning: X does not have valid feature names, but GaussianNB was fitted with feature names\n",
      "  warnings.warn(\n"
     ]
    }
   ],
   "source": [
    "temp  = 25 #12\n",
    "month = 'January' #'February'\n",
    "maize_price = model.predict([[temp, month_dict[month.lower()]]])"
   ]
  },
  {
   "cell_type": "code",
   "execution_count": 29,
   "id": "d785c090",
   "metadata": {},
   "outputs": [
    {
     "data": {
      "text/plain": [
       "'Maize price in January is of  low sales '"
      ]
     },
     "execution_count": 29,
     "metadata": {},
     "output_type": "execute_result"
    }
   ],
   "source": [
    "\"Maize price in {} is of  {} \".format(month, sales_dict[list(maize_price)[0]])"
   ]
  },
  {
   "cell_type": "markdown",
   "id": "d8c8705e",
   "metadata": {},
   "source": [
    "# OUTPUT VISUALISATIONS AND METRICS"
   ]
  },
  {
   "cell_type": "code",
   "execution_count": 30,
   "id": "8bb21881",
   "metadata": {},
   "outputs": [],
   "source": [
    "from sklearn.metrics import classification_report,confusion_matrix\n",
    "from sklearn.metrics import accuracy_score, plot_confusion_matrix"
   ]
  },
  {
   "cell_type": "code",
   "execution_count": 31,
   "id": "0136e177",
   "metadata": {},
   "outputs": [
    {
     "name": "stderr",
     "output_type": "stream",
     "text": [
      "C:\\ProgramData\\Anaconda3\\lib\\site-packages\\sklearn\\utils\\deprecation.py:87: FutureWarning: Function plot_confusion_matrix is deprecated; Function `plot_confusion_matrix` is deprecated in 1.0 and will be removed in 1.2. Use one of the class methods: ConfusionMatrixDisplay.from_predictions or ConfusionMatrixDisplay.from_estimator.\n",
      "  warnings.warn(msg, category=FutureWarning)\n"
     ]
    },
    {
     "data": {
      "text/plain": [
       "<sklearn.metrics._plot.confusion_matrix.ConfusionMatrixDisplay at 0x23d8ebd3d90>"
      ]
     },
     "execution_count": 31,
     "metadata": {},
     "output_type": "execute_result"
    },
    {
     "data": {
      "image/png": "[encoded data removed]",
      "text/plain": [
       "<Figure size 432x288 with 2 Axes>"
      ]
     },
     "metadata": {
      "needs_background": "light"
     },
     "output_type": "display_data"
    }
   ],
   "source": [
    "plot_confusion_matrix(model, x_test, y_test)"
   ]
  },
  {
   "cell_type": "markdown",
   "id": "c9769579",
   "metadata": {},
   "source": [
    "# MODEL ACCURACY SCORE"
   ]
  },
  {
   "cell_type": "code",
   "execution_count": 32,
   "id": "0d7903bf",
   "metadata": {},
   "outputs": [
    {
     "data": {
      "text/plain": [
       "'This means for any value of temperature and month entered \\n the price predicted is accurate by  72.41379310344827 %'"
      ]
     },
     "execution_count": 32,
     "metadata": {},
     "output_type": "execute_result"
    }
   ],
   "source": [
    "\"This means for any value of temperature and month entered \\n the price predicted is accurate by  {} %\".format(accuracy_score(y_test, y_predicted)*100)"
   ]
  }
 ],
 "metadata": {
  "kernelspec": {
   "display_name": "Python 3 (ipykernel)",
   "language": "python",
   "name": "python3"
  },
  "language_info": {
   "codemirror_mode": {
    "name": "ipython",
    "version": 3
   },
   "file_extension": ".py",
   "mimetype": "text/x-python",
   "name": "python",
   "nbconvert_exporter": "python",
   "pygments_lexer": "ipython3",
   "version": "3.9.12"
  }
 },
 "nbformat": 4,
 "nbformat_minor": 5
}
